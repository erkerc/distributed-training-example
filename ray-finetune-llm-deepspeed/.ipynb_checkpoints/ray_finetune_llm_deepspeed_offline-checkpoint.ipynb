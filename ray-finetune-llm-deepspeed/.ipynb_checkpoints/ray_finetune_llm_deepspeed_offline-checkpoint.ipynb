{
 "cells": [
  {
   "cell_type": "code",
   "execution_count": 1,
   "id": "204a90fb-da94-426a-8c0c-3a0c61b01086",
   "metadata": {
    "tags": []
   },
   "outputs": [],
   "source": [
    "from codeflare_sdk import Cluster, ClusterConfiguration, TokenAuthentication"
   ]
  },
  {
   "cell_type": "code",
   "execution_count": 2,
   "id": "9337bbf2-3e16-47ba-a519-291d1c856e18",
   "metadata": {
    "tags": []
   },
   "outputs": [],
   "source": [
    "import os\n",
    "import sys"
   ]
  },
  {
   "cell_type": "code",
   "execution_count": 3,
   "id": "0b3145bd-323c-401b-8f3b-02d1140db8a6",
   "metadata": {
    "tags": []
   },
   "outputs": [],
   "source": [
    "import boto3"
   ]
  },
  {
   "cell_type": "code",
   "execution_count": null,
   "id": "1e6858be-dc04-48ed-bbd8-6426917d8bf3",
   "metadata": {},
   "outputs": [],
   "source": []
  },
  {
   "cell_type": "code",
   "execution_count": 4,
   "id": "440b98a3-8ed3-4072-9cc2-763d0e6c6f00",
   "metadata": {
    "tags": []
   },
   "outputs": [
    {
     "name": "stdout",
     "output_type": "stream",
     "text": [
      "Insecure request warnings have been disabled\n"
     ]
    },
    {
     "data": {
      "text/plain": [
       "'Logged into https://api.cluster-mpcjw.mpcjw.sandbox2589.opentlc.com:6443'"
      ]
     },
     "execution_count": 4,
     "metadata": {},
     "output_type": "execute_result"
    }
   ],
   "source": [
    "# Authenticate the CodeFlare SDK\n",
    "# On OpenShift, you can retrieve the token by running `oc whoami -t`,\n",
    "# and the server with `oc cluster-info`.\n",
    "\n",
    "\n",
    "auth = TokenAuthentication(\n",
    "    token = \"sha256~K9Q_E2ewuhOaVW6sfU-mYDrhweTfatN0Dv_wM76-FaI\",#os.getenv(\"AUTH_TOKEN\"),\n",
    "    server = \"https://api.cluster-mpcjw.mpcjw.sandbox2589.opentlc.com:6443\",#os.getenv(\"API_SERVER\"),\n",
    "    skip_tls=True\n",
    ")\n",
    "auth.login()"
   ]
  },
  {
   "cell_type": "code",
   "execution_count": 5,
   "id": "4d340f86-1a04-48d3-a5e7-067faecfc17a",
   "metadata": {
    "tags": []
   },
   "outputs": [
    {
     "name": "stdout",
     "output_type": "stream",
     "text": [
      "Yaml resources loaded for ray\n"
     ]
    },
    {
     "name": "stderr",
     "output_type": "stream",
     "text": [
      "/opt/app-root/lib64/python3.9/site-packages/codeflare_sdk/cluster/config.py:203: UserWarning: min_memory is being deprecated, use worker_memory_requests\n",
      "  warnings.warn(\"min_memory is being deprecated, use worker_memory_requests\")\n",
      "/opt/app-root/lib64/python3.9/site-packages/codeflare_sdk/cluster/config.py:206: UserWarning: max_memory is being deprecated, use worker_memory_limits\n",
      "  warnings.warn(\"max_memory is being deprecated, use worker_memory_limits\")\n",
      "/opt/app-root/lib64/python3.9/site-packages/codeflare_sdk/cluster/config.py:195: UserWarning: min_cpus is being deprecated, use worker_cpu_requests\n",
      "  warnings.warn(\"min_cpus is being deprecated, use worker_cpu_requests\")\n",
      "/opt/app-root/lib64/python3.9/site-packages/codeflare_sdk/cluster/config.py:198: UserWarning: max_cpus is being deprecated, use worker_cpu_limits\n",
      "  warnings.warn(\"max_cpus is being deprecated, use worker_cpu_limits\")\n",
      "/opt/app-root/lib64/python3.9/site-packages/codeflare_sdk/cluster/config.py:153: UserWarning: head_gpus is being deprecated, replacing with head_extended_resource_requests['nvidia.com/gpu'] = 1\n",
      "  warnings.warn(\n",
      "/opt/app-root/lib64/python3.9/site-packages/codeflare_sdk/cluster/config.py:162: UserWarning: num_gpus is being deprecated, replacing with worker_extended_resource_requests['nvidia.com/gpu'] = 1\n",
      "  warnings.warn(\n"
     ]
    }
   ],
   "source": [
    "# Configure the Ray cluster\n",
    "# cluster = Cluster(ClusterConfiguration(\n",
    "#     name='ray',\n",
    "#     namespace='distributed-training-demo',\n",
    "#     num_workers=5,\n",
    "#     min_cpus=8,\n",
    "#     max_cpus=8,\n",
    "#     head_cpus=16,\n",
    "#     min_memory=48,\n",
    "#     max_memory=48,\n",
    "#     head_memory=48,\n",
    "#     head_gpus=1,\n",
    "#     num_gpus=1,\n",
    "#     image=\"quay.io/rhoai/ray:2.23.0-py39-cu121-2024.1\",\n",
    "#     local_queue=\"local-queue-ray\",\n",
    "# ))\n",
    "cluster = Cluster(ClusterConfiguration(\n",
    "    name='ray',\n",
    "    namespace='distributed-training-demo',\n",
    "    num_workers=4,\n",
    "    min_cpus=8,\n",
    "    max_cpus=8,\n",
    "    head_cpus=16,\n",
    "    min_memory=48,\n",
    "    max_memory=48,\n",
    "    head_memory=48,\n",
    "    head_gpus=1,\n",
    "    num_gpus=1,\n",
    "    image=\"quay.io/rhoai/ray:2.23.0-py39-cu121-2024.1\",\n",
    "    local_queue=\"local-queue-ray\",\n",
    "))"
   ]
  },
  {
   "cell_type": "code",
   "execution_count": 6,
   "id": "cee11013-8646-4cda-94a2-f8e731baa1ca",
   "metadata": {
    "tags": []
   },
   "outputs": [],
   "source": [
    "# Create the Ray cluster\n",
    "cluster.up()"
   ]
  },
  {
   "cell_type": "code",
   "execution_count": 7,
   "id": "709a09df-3871-4791-9763-5dcdc081bec4",
   "metadata": {
    "tags": []
   },
   "outputs": [
    {
     "name": "stdout",
     "output_type": "stream",
     "text": [
      "Waiting for requested resources to be set up...\n",
      "Requested cluster is up and running!\n",
      "Dashboard is ready!\n"
     ]
    }
   ],
   "source": [
    "cluster.wait_ready()"
   ]
  },
  {
   "cell_type": "code",
   "execution_count": 8,
   "id": "24ccda92-a0f0-4845-a13c-6aa735e75d5a",
   "metadata": {
    "tags": []
   },
   "outputs": [
    {
     "data": {
      "text/html": [
       "<pre style=\"white-space:pre;overflow-x:auto;line-height:normal;font-family:Menlo,'DejaVu Sans Mono',consolas,'Courier New',monospace\"><span style=\"font-style: italic\">                        </span><span style=\"font-weight: bold; font-style: italic\"> 🚀 CodeFlare Cluster Details 🚀</span><span style=\"font-style: italic\">                        </span>\n",
       "<span style=\"font-weight: bold\">                                                                                </span>\n",
       " ╭────────────────────────────────────────────────────────────────────────────╮ \n",
       " │   <span style=\"color: #c0c0c0; text-decoration-color: #c0c0c0; background-color: #008000; font-weight: bold\">Name</span>                                                                     │ \n",
       " │   <span style=\"font-weight: bold; text-decoration: underline\">ray</span>                                                          Active ✅   │ \n",
       " │                                                                            │ \n",
       " │   <span style=\"font-weight: bold\">URI:</span> ray://ray-head-svc.distributed-training-demo.svc:10001              │ \n",
       " │                                                                            │ \n",
       " │   <a href=\"https://ray-dashboard-ray-distributed-training-demo.apps.cluster-mpcjw.mpcjw.sandbox2589.opentlc.com\" target=\"_blank\"><span style=\"color: #000080; text-decoration-color: #000080; text-decoration: underline\">Dashboard🔗</span></a>                                                              │ \n",
       " │                                                                            │ \n",
       " │  <span style=\"font-style: italic\">                     Cluster Resources                     </span>               │ \n",
       " │   ╭── Workers ──╮  ╭───────── Worker specs(each) ─────────╮                │ \n",
       " │   │ <span style=\"font-weight: bold\"> # Workers </span> │  │ <span style=\"font-weight: bold\"> Memory      CPU         GPU        </span> │                │ \n",
       " │   │ <span style=\"color: #800080; text-decoration-color: #800080\">           </span> │  │ <span style=\"color: #008080; text-decoration-color: #008080\">            </span><span style=\"color: #800080; text-decoration-color: #800080\">                        </span> │                │ \n",
       " │   │ <span style=\"color: #800080; text-decoration-color: #800080\"> 4         </span> │  │ <span style=\"color: #008080; text-decoration-color: #008080\"> 48G~48G    </span><span style=\"color: #800080; text-decoration-color: #800080\"> 8           1          </span> │                │ \n",
       " │   │ <span style=\"color: #800080; text-decoration-color: #800080\">           </span> │  │ <span style=\"color: #008080; text-decoration-color: #008080\">            </span><span style=\"color: #800080; text-decoration-color: #800080\">                        </span> │                │ \n",
       " │   ╰─────────────╯  ╰──────────────────────────────────────╯                │ \n",
       " ╰────────────────────────────────────────────────────────────────────────────╯ \n",
       "</pre>\n"
      ],
      "text/plain": [
       "\u001b[3m                        \u001b[0m\u001b[1;3m 🚀 CodeFlare Cluster Details 🚀\u001b[0m\u001b[3m                        \u001b[0m\n",
       "\u001b[1m \u001b[0m\u001b[1m                                                                              \u001b[0m\u001b[1m \u001b[0m\n",
       " ╭────────────────────────────────────────────────────────────────────────────╮ \n",
       " │   \u001b[1;37;42mName\u001b[0m                                                                     │ \n",
       " │   \u001b[1;4mray\u001b[0m                                                          Active ✅   │ \n",
       " │                                                                            │ \n",
       " │   \u001b[1mURI:\u001b[0m ray://ray-head-svc.distributed-training-demo.svc:10001              │ \n",
       " │                                                                            │ \n",
       " │   \u001b]8;id=485658;https://ray-dashboard-ray-distributed-training-demo.apps.cluster-mpcjw.mpcjw.sandbox2589.opentlc.com\u001b\\\u001b[4;34mDashboard🔗\u001b[0m\u001b]8;;\u001b\\                                                              │ \n",
       " │                                                                            │ \n",
       " │  \u001b[3m                     Cluster Resources                     \u001b[0m               │ \n",
       " │   ╭── Workers ──╮  ╭───────── Worker specs(each) ─────────╮                │ \n",
       " │   │ \u001b[1m \u001b[0m\u001b[1m# Workers\u001b[0m\u001b[1m \u001b[0m │  │ \u001b[1m \u001b[0m\u001b[1mMemory    \u001b[0m\u001b[1m \u001b[0m\u001b[1m \u001b[0m\u001b[1mCPU       \u001b[0m\u001b[1m \u001b[0m\u001b[1m \u001b[0m\u001b[1mGPU       \u001b[0m\u001b[1m \u001b[0m │                │ \n",
       " │   │ \u001b[35m \u001b[0m\u001b[35m         \u001b[0m\u001b[35m \u001b[0m │  │ \u001b[36m \u001b[0m\u001b[36m          \u001b[0m\u001b[36m \u001b[0m\u001b[35m \u001b[0m\u001b[35m          \u001b[0m\u001b[35m \u001b[0m\u001b[35m \u001b[0m\u001b[35m          \u001b[0m\u001b[35m \u001b[0m │                │ \n",
       " │   │ \u001b[35m \u001b[0m\u001b[35m4        \u001b[0m\u001b[35m \u001b[0m │  │ \u001b[36m \u001b[0m\u001b[36m48G~48G   \u001b[0m\u001b[36m \u001b[0m\u001b[35m \u001b[0m\u001b[35m8         \u001b[0m\u001b[35m \u001b[0m\u001b[35m \u001b[0m\u001b[35m1         \u001b[0m\u001b[35m \u001b[0m │                │ \n",
       " │   │ \u001b[35m \u001b[0m\u001b[35m         \u001b[0m\u001b[35m \u001b[0m │  │ \u001b[36m \u001b[0m\u001b[36m          \u001b[0m\u001b[36m \u001b[0m\u001b[35m \u001b[0m\u001b[35m          \u001b[0m\u001b[35m \u001b[0m\u001b[35m \u001b[0m\u001b[35m          \u001b[0m\u001b[35m \u001b[0m │                │ \n",
       " │   ╰─────────────╯  ╰──────────────────────────────────────╯                │ \n",
       " ╰────────────────────────────────────────────────────────────────────────────╯ \n"
      ]
     },
     "metadata": {},
     "output_type": "display_data"
    },
    {
     "data": {
      "text/plain": [
       "RayCluster(name='ray', status=<RayClusterStatus.READY: 'ready'>, head_cpus=16, head_mem='48G', workers=4, worker_mem_min='48G', worker_mem_max='48G', worker_cpu=8, namespace='distributed-training-demo', dashboard='https://ray-dashboard-ray-distributed-training-demo.apps.cluster-mpcjw.mpcjw.sandbox2589.opentlc.com', worker_extended_resources={'nvidia.com/gpu': 1}, head_extended_resources={'nvidia.com/gpu': 1})"
      ]
     },
     "execution_count": 8,
     "metadata": {},
     "output_type": "execute_result"
    }
   ],
   "source": [
    "cluster.details()"
   ]
  },
  {
   "cell_type": "code",
   "execution_count": 9,
   "id": "fb29e733-eac5-4f3d-bbfa-543e8ee7fd1b",
   "metadata": {
    "tags": []
   },
   "outputs": [],
   "source": [
    "# Initialize the Job Submission Client\n",
    "client = cluster.job_client"
   ]
  },
  {
   "cell_type": "code",
   "execution_count": 10,
   "id": "ae9672d7-2cd5-41a4-a00c-c6972d4d4acb",
   "metadata": {
    "tags": []
   },
   "outputs": [],
   "source": [
    "def ingest_data(to_folder='./data', prefix = ''):\n",
    "    s3_endpoint_url = os.getenv('AWS_S3_ENDPOINT')\n",
    "    s3_access_key = os.getenv('AWS_ACCESS_KEY_ID')\n",
    "    s3_secret_key = os.getenv('AWS_SECRET_ACCESS_KEY')\n",
    "    s3_bucket_name = os.getenv('AWS_S3_BUCKET')\n",
    "\n",
    "    s3 = boto3.resource(\n",
    "        's3', endpoint_url=s3_endpoint_url,\n",
    "        aws_access_key_id=s3_access_key, aws_secret_access_key=s3_secret_key\n",
    "    )\n",
    "    bucket = s3.Bucket(s3_bucket_name)\n",
    "    \n",
    "    os.makedirs(to_folder, exist_ok=True)  \n",
    "    \n",
    "    for s3_object in bucket.objects.filter(Prefix=prefix):\n",
    "        key = s3_object.key\n",
    "        local_file_path = os.path.join(to_folder, os.path.basename(key))\n",
    "        bucket.download_file(key, local_file_path)\n",
    "\n",
    "ingest_data(to_folder='./data', prefix='llm_data/')"
   ]
  },
  {
   "cell_type": "code",
   "execution_count": 11,
   "id": "086f3337",
   "metadata": {
    "tags": []
   },
   "outputs": [],
   "source": [
    "# The S3 bucket where to store checkpoint.\n",
    "# It can be set manually, otherwise it's retrieved from configured the data connection.\n",
    "s3_bucket = \"\"\n",
    "if not s3_bucket:\n",
    "    s3_bucket = os.environ.get('AWS_S3_BUCKET')\n",
    "assert s3_bucket, \"An S3 bucket must be provided to store checkpoints\""
   ]
  },
  {
   "cell_type": "code",
   "execution_count": 13,
   "id": "ae2be5d8-66c7-46e2-ba3b-fa2f8a03b27f",
   "metadata": {
    "tags": []
   },
   "outputs": [
    {
     "name": "stderr",
     "output_type": "stream",
     "text": [
      "2024-09-10 11:12:38,993\tINFO dashboard_sdk.py:385 -- Package gcs://_ray_pkg_0eccd373164c475a.zip already exists, skipping upload.\n"
     ]
    },
    {
     "name": "stdout",
     "output_type": "stream",
     "text": [
      "raysubmit_JSTYENUtYWVAJJxn\n"
     ]
    }
   ],
   "source": [
    "submission_id = client.submit_job(\n",
    "    entrypoint=\"python ray_finetune_llm_deepspeed.py \"\n",
    "               \"--model-name=meta-llama/Llama-2-7b-chat-hf \"\n",
    "               \"--lora \"\n",
    "               \"--num-devices=2 \"\n",
    "               \"--num-epochs=3 \"\n",
    "               \"--ds-config=./deepspeed_configs/zero_3_llama_2_7b.json \"\n",
    "               f\"--storage-path={s3_bucket}/ray_finetune_llm_deepspeed/ \"\n",
    "               \"--batch-size-per-device=16 \"\n",
    "               \"--eval-batch-size-per-device=32 \"\n",
    "               \"--disconnected=True \", \n",
    "    runtime_env={\n",
    "        \"env_vars\": {\n",
    "            \"AWS_ACCESS_KEY_ID\": os.environ.get('AWS_ACCESS_KEY_ID'),\n",
    "            \"AWS_SECRET_ACCESS_KEY\": os.environ.get('AWS_SECRET_ACCESS_KEY'),\n",
    "            \"AWS_DEFAULT_REGION\": 'us-east-1',\n",
    "            \"AWS_S3_ENDPOINT\": os.environ.get('AWS_S3_ENDPOINT'),\n",
    "        },\n",
    "        \"pip\": \"requirements.txt\",\n",
    "        \"working_dir\": \"./\",\n",
    "        \"excludes\": [\"/docs/\", \"*.ipynb\", \"*.md\", \"/tmp/\"]\n",
    "    },\n",
    ")\n",
    "print(submission_id)"
   ]
  },
  {
   "cell_type": "code",
   "execution_count": 14,
   "id": "8476f19b-1d51-44f5-8889-c5b01ed36343",
   "metadata": {
    "tags": []
   },
   "outputs": [
    {
     "data": {
      "text/plain": [
       "False"
      ]
     },
     "execution_count": 14,
     "metadata": {},
     "output_type": "execute_result"
    }
   ],
   "source": [
    "client.stop_job(submission_id)"
   ]
  },
  {
   "cell_type": "code",
   "execution_count": 15,
   "id": "f456f161-5122-4057-a5ac-f7f6b38651ec",
   "metadata": {
    "tags": []
   },
   "outputs": [],
   "source": [
    "cluster.down()"
   ]
  },
  {
   "cell_type": "code",
   "execution_count": null,
   "id": "909e636e-a43b-4f29-952c-d157932b3baf",
   "metadata": {},
   "outputs": [],
   "source": []
  }
 ],
 "metadata": {
  "kernelspec": {
   "display_name": "Python 3.9",
   "language": "python",
   "name": "python3"
  },
  "language_info": {
   "codemirror_mode": {
    "name": "ipython",
    "version": 3
   },
   "file_extension": ".py",
   "mimetype": "text/x-python",
   "name": "python",
   "nbconvert_exporter": "python",
   "pygments_lexer": "ipython3",
   "version": "3.9.16"
  }
 },
 "nbformat": 4,
 "nbformat_minor": 5
}
