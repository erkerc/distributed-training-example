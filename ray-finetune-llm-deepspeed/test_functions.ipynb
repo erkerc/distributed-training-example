{
 "cells": [
  {
   "cell_type": "code",
   "execution_count": 1,
   "id": "08e69e5f-3187-46e4-af40-1163b2e81525",
   "metadata": {
    "tags": []
   },
   "outputs": [
    {
     "name": "stdout",
     "output_type": "stream",
     "text": [
      "Collecting flash-attn==2.5.9.post1+cu122torch2.3cxx11abiFALSE\n",
      "  Downloading https://github.com/Dao-AILab/flash-attention/releases/download/v2.5.9.post1/flash_attn-2.5.9.post1+cu122torch2.3cxx11abiFALSE-cp39-cp39-linux_x86_64.whl (120.9 MB)\n",
      "\u001b[2K     \u001b[90m━━━━━━━━━━━━━━━━━━━━━━━━━━━━━━━━━━━━━\u001b[0m \u001b[32m120.9/120.9 MB\u001b[0m \u001b[31m183.0 MB/s\u001b[0m eta \u001b[36m0:00:00\u001b[0m00:01\u001b[0m00:01\u001b[0m\n",
      "\u001b[?25hRequirement already satisfied: accelerate==0.31.0 in /opt/app-root/lib/python3.9/site-packages (from -r requirements.txt (line 1)) (0.31.0)\n",
      "Requirement already satisfied: awscliv2==2.3.0 in /opt/app-root/lib/python3.9/site-packages (from -r requirements.txt (line 2)) (2.3.0)\n",
      "Requirement already satisfied: datasets==2.19.2 in /opt/app-root/lib/python3.9/site-packages (from -r requirements.txt (line 3)) (2.19.2)\n",
      "Requirement already satisfied: deepspeed==0.14.4 in /opt/app-root/lib/python3.9/site-packages (from -r requirements.txt (line 4)) (0.14.4)\n",
      "Requirement already satisfied: peft==0.11.1 in /opt/app-root/lib/python3.9/site-packages (from -r requirements.txt (line 9)) (0.11.1)\n",
      "Requirement already satisfied: ray[train]==2.23.0 in /opt/app-root/lib/python3.9/site-packages (from -r requirements.txt (line 10)) (2.23.0)\n",
      "Requirement already satisfied: torch==2.3.1 in /opt/app-root/lib/python3.9/site-packages (from -r requirements.txt (line 11)) (2.3.1)\n",
      "Requirement already satisfied: transformers==4.41.2 in /opt/app-root/lib/python3.9/site-packages (from -r requirements.txt (line 12)) (4.41.2)\n",
      "Requirement already satisfied: numpy>=1.17 in /opt/app-root/lib/python3.9/site-packages (from accelerate==0.31.0->-r requirements.txt (line 1)) (1.26.4)\n",
      "Requirement already satisfied: safetensors>=0.3.1 in /opt/app-root/lib/python3.9/site-packages (from accelerate==0.31.0->-r requirements.txt (line 1)) (0.4.4)\n",
      "Requirement already satisfied: packaging>=20.0 in /opt/app-root/lib/python3.9/site-packages (from accelerate==0.31.0->-r requirements.txt (line 1)) (24.1)\n",
      "Requirement already satisfied: psutil in /opt/app-root/lib/python3.9/site-packages (from accelerate==0.31.0->-r requirements.txt (line 1)) (5.9.8)\n",
      "Requirement already satisfied: huggingface-hub in /opt/app-root/lib/python3.9/site-packages (from accelerate==0.31.0->-r requirements.txt (line 1)) (0.24.6)\n",
      "Requirement already satisfied: pyyaml in /opt/app-root/lib/python3.9/site-packages (from accelerate==0.31.0->-r requirements.txt (line 1)) (6.0.1)\n",
      "Requirement already satisfied: pip in /opt/app-root/lib/python3.9/site-packages (from awscliv2==2.3.0->-r requirements.txt (line 2)) (22.2.2)\n",
      "Requirement already satisfied: pandas in /opt/app-root/lib/python3.9/site-packages (from datasets==2.19.2->-r requirements.txt (line 3)) (2.2.2)\n",
      "Requirement already satisfied: requests>=2.32.1 in /opt/app-root/lib/python3.9/site-packages (from datasets==2.19.2->-r requirements.txt (line 3)) (2.32.3)\n",
      "Requirement already satisfied: pyarrow-hotfix in /opt/app-root/lib/python3.9/site-packages (from datasets==2.19.2->-r requirements.txt (line 3)) (0.6)\n",
      "Requirement already satisfied: tqdm>=4.62.1 in /opt/app-root/lib/python3.9/site-packages (from datasets==2.19.2->-r requirements.txt (line 3)) (4.66.4)\n",
      "Requirement already satisfied: fsspec[http]<=2024.3.1,>=2023.1.0 in /opt/app-root/lib/python3.9/site-packages (from datasets==2.19.2->-r requirements.txt (line 3)) (2024.3.1)\n",
      "Requirement already satisfied: xxhash in /opt/app-root/lib/python3.9/site-packages (from datasets==2.19.2->-r requirements.txt (line 3)) (3.5.0)\n",
      "Requirement already satisfied: dill<0.3.9,>=0.3.0 in /opt/app-root/lib/python3.9/site-packages (from datasets==2.19.2->-r requirements.txt (line 3)) (0.3.8)\n",
      "Requirement already satisfied: multiprocess in /opt/app-root/lib/python3.9/site-packages (from datasets==2.19.2->-r requirements.txt (line 3)) (0.70.16)\n",
      "Requirement already satisfied: filelock in /opt/app-root/lib/python3.9/site-packages (from datasets==2.19.2->-r requirements.txt (line 3)) (3.15.4)\n",
      "Requirement already satisfied: pyarrow>=12.0.0 in /opt/app-root/lib/python3.9/site-packages (from datasets==2.19.2->-r requirements.txt (line 3)) (16.1.0)\n",
      "Requirement already satisfied: aiohttp in /opt/app-root/lib/python3.9/site-packages (from datasets==2.19.2->-r requirements.txt (line 3)) (3.9.5)\n",
      "Requirement already satisfied: hjson in /opt/app-root/lib/python3.9/site-packages (from deepspeed==0.14.4->-r requirements.txt (line 4)) (3.1.0)\n",
      "Requirement already satisfied: pydantic in /opt/app-root/lib/python3.9/site-packages (from deepspeed==0.14.4->-r requirements.txt (line 4)) (1.10.17)\n",
      "Requirement already satisfied: ninja in /opt/app-root/lib/python3.9/site-packages (from deepspeed==0.14.4->-r requirements.txt (line 4)) (1.11.1.1)\n",
      "Requirement already satisfied: py-cpuinfo in /opt/app-root/lib/python3.9/site-packages (from deepspeed==0.14.4->-r requirements.txt (line 4)) (9.0.0)\n",
      "Requirement already satisfied: nvidia-ml-py in /opt/app-root/lib/python3.9/site-packages (from deepspeed==0.14.4->-r requirements.txt (line 4)) (12.560.30)\n",
      "Requirement already satisfied: jsonschema in /opt/app-root/lib/python3.9/site-packages (from ray[train]==2.23.0->-r requirements.txt (line 10)) (4.22.0)\n",
      "Requirement already satisfied: protobuf!=3.19.5,>=3.15.3 in /opt/app-root/lib/python3.9/site-packages (from ray[train]==2.23.0->-r requirements.txt (line 10)) (4.25.3)\n",
      "Requirement already satisfied: frozenlist in /opt/app-root/lib/python3.9/site-packages (from ray[train]==2.23.0->-r requirements.txt (line 10)) (1.4.1)\n",
      "Requirement already satisfied: msgpack<2.0.0,>=1.0.0 in /opt/app-root/lib/python3.9/site-packages (from ray[train]==2.23.0->-r requirements.txt (line 10)) (1.0.8)\n",
      "Requirement already satisfied: aiosignal in /opt/app-root/lib/python3.9/site-packages (from ray[train]==2.23.0->-r requirements.txt (line 10)) (1.3.1)\n",
      "Requirement already satisfied: click>=7.0 in /opt/app-root/lib/python3.9/site-packages (from ray[train]==2.23.0->-r requirements.txt (line 10)) (8.1.7)\n",
      "Requirement already satisfied: tensorboardX>=1.9 in /opt/app-root/lib/python3.9/site-packages (from ray[train]==2.23.0->-r requirements.txt (line 10)) (2.6.2.2)\n",
      "Requirement already satisfied: jinja2 in /opt/app-root/lib/python3.9/site-packages (from torch==2.3.1->-r requirements.txt (line 11)) (3.1.4)\n",
      "Requirement already satisfied: nvidia-cuda-nvrtc-cu12==12.1.105 in /opt/app-root/lib/python3.9/site-packages (from torch==2.3.1->-r requirements.txt (line 11)) (12.1.105)\n",
      "Requirement already satisfied: nvidia-cublas-cu12==12.1.3.1 in /opt/app-root/lib/python3.9/site-packages (from torch==2.3.1->-r requirements.txt (line 11)) (12.1.3.1)\n",
      "Requirement already satisfied: nvidia-cufft-cu12==11.0.2.54 in /opt/app-root/lib/python3.9/site-packages (from torch==2.3.1->-r requirements.txt (line 11)) (11.0.2.54)\n",
      "Requirement already satisfied: nvidia-cuda-cupti-cu12==12.1.105 in /opt/app-root/lib/python3.9/site-packages (from torch==2.3.1->-r requirements.txt (line 11)) (12.1.105)\n",
      "Requirement already satisfied: nvidia-cuda-runtime-cu12==12.1.105 in /opt/app-root/lib/python3.9/site-packages (from torch==2.3.1->-r requirements.txt (line 11)) (12.1.105)\n",
      "Requirement already satisfied: nvidia-curand-cu12==10.3.2.106 in /opt/app-root/lib/python3.9/site-packages (from torch==2.3.1->-r requirements.txt (line 11)) (10.3.2.106)\n",
      "Requirement already satisfied: nvidia-cusolver-cu12==11.4.5.107 in /opt/app-root/lib/python3.9/site-packages (from torch==2.3.1->-r requirements.txt (line 11)) (11.4.5.107)\n",
      "Requirement already satisfied: nvidia-cudnn-cu12==8.9.2.26 in /opt/app-root/lib/python3.9/site-packages (from torch==2.3.1->-r requirements.txt (line 11)) (8.9.2.26)\n",
      "Requirement already satisfied: typing-extensions>=4.8.0 in /opt/app-root/lib/python3.9/site-packages (from torch==2.3.1->-r requirements.txt (line 11)) (4.12.2)\n",
      "Requirement already satisfied: nvidia-cusparse-cu12==12.1.0.106 in /opt/app-root/lib/python3.9/site-packages (from torch==2.3.1->-r requirements.txt (line 11)) (12.1.0.106)\n",
      "Requirement already satisfied: triton==2.3.1 in /opt/app-root/lib/python3.9/site-packages (from torch==2.3.1->-r requirements.txt (line 11)) (2.3.1)\n",
      "Requirement already satisfied: nvidia-nvtx-cu12==12.1.105 in /opt/app-root/lib/python3.9/site-packages (from torch==2.3.1->-r requirements.txt (line 11)) (12.1.105)\n",
      "Requirement already satisfied: sympy in /opt/app-root/lib/python3.9/site-packages (from torch==2.3.1->-r requirements.txt (line 11)) (1.13.2)\n",
      "Requirement already satisfied: networkx in /opt/app-root/lib/python3.9/site-packages (from torch==2.3.1->-r requirements.txt (line 11)) (3.2.1)\n",
      "Requirement already satisfied: nvidia-nccl-cu12==2.20.5 in /opt/app-root/lib/python3.9/site-packages (from torch==2.3.1->-r requirements.txt (line 11)) (2.20.5)\n",
      "Requirement already satisfied: regex!=2019.12.17 in /opt/app-root/lib/python3.9/site-packages (from transformers==4.41.2->-r requirements.txt (line 12)) (2024.7.24)\n",
      "Requirement already satisfied: tokenizers<0.20,>=0.19 in /opt/app-root/lib/python3.9/site-packages (from transformers==4.41.2->-r requirements.txt (line 12)) (0.19.1)\n",
      "Requirement already satisfied: nvidia-nvjitlink-cu12 in /opt/app-root/lib/python3.9/site-packages (from nvidia-cusolver-cu12==11.4.5.107->torch==2.3.1->-r requirements.txt (line 11)) (12.6.20)\n",
      "Requirement already satisfied: einops in /opt/app-root/lib/python3.9/site-packages (from flash-attn==2.5.9.post1+cu122torch2.3cxx11abiFALSE->-r requirements.txt (line 8)) (0.8.0)\n",
      "Requirement already satisfied: attrs>=17.3.0 in /opt/app-root/lib/python3.9/site-packages (from aiohttp->datasets==2.19.2->-r requirements.txt (line 3)) (23.2.0)\n",
      "Requirement already satisfied: yarl<2.0,>=1.0 in /opt/app-root/lib/python3.9/site-packages (from aiohttp->datasets==2.19.2->-r requirements.txt (line 3)) (1.9.4)\n",
      "Requirement already satisfied: async-timeout<5.0,>=4.0 in /opt/app-root/lib/python3.9/site-packages (from aiohttp->datasets==2.19.2->-r requirements.txt (line 3)) (4.0.3)\n",
      "Requirement already satisfied: multidict<7.0,>=4.5 in /opt/app-root/lib/python3.9/site-packages (from aiohttp->datasets==2.19.2->-r requirements.txt (line 3)) (6.0.5)\n",
      "Requirement already satisfied: idna<4,>=2.5 in /opt/app-root/lib/python3.9/site-packages (from requests>=2.32.1->datasets==2.19.2->-r requirements.txt (line 3)) (3.7)\n",
      "Requirement already satisfied: charset-normalizer<4,>=2 in /opt/app-root/lib/python3.9/site-packages (from requests>=2.32.1->datasets==2.19.2->-r requirements.txt (line 3)) (3.3.2)\n",
      "Requirement already satisfied: certifi>=2017.4.17 in /opt/app-root/lib/python3.9/site-packages (from requests>=2.32.1->datasets==2.19.2->-r requirements.txt (line 3)) (2024.6.2)\n",
      "Requirement already satisfied: urllib3<3,>=1.21.1 in /opt/app-root/lib/python3.9/site-packages (from requests>=2.32.1->datasets==2.19.2->-r requirements.txt (line 3)) (1.26.19)\n",
      "Requirement already satisfied: MarkupSafe>=2.0 in /opt/app-root/lib/python3.9/site-packages (from jinja2->torch==2.3.1->-r requirements.txt (line 11)) (2.1.5)\n",
      "Requirement already satisfied: jsonschema-specifications>=2023.03.6 in /opt/app-root/lib/python3.9/site-packages (from jsonschema->ray[train]==2.23.0->-r requirements.txt (line 10)) (2023.12.1)\n",
      "Requirement already satisfied: rpds-py>=0.7.1 in /opt/app-root/lib/python3.9/site-packages (from jsonschema->ray[train]==2.23.0->-r requirements.txt (line 10)) (0.18.1)\n",
      "Requirement already satisfied: referencing>=0.28.4 in /opt/app-root/lib/python3.9/site-packages (from jsonschema->ray[train]==2.23.0->-r requirements.txt (line 10)) (0.35.1)\n",
      "Requirement already satisfied: python-dateutil>=2.8.2 in /opt/app-root/lib/python3.9/site-packages (from pandas->datasets==2.19.2->-r requirements.txt (line 3)) (2.9.0.post0)\n",
      "Requirement already satisfied: tzdata>=2022.7 in /opt/app-root/lib/python3.9/site-packages (from pandas->datasets==2.19.2->-r requirements.txt (line 3)) (2024.1)\n",
      "Requirement already satisfied: pytz>=2020.1 in /opt/app-root/lib/python3.9/site-packages (from pandas->datasets==2.19.2->-r requirements.txt (line 3)) (2024.1)\n",
      "Requirement already satisfied: mpmath<1.4,>=1.1.0 in /opt/app-root/lib/python3.9/site-packages (from sympy->torch==2.3.1->-r requirements.txt (line 11)) (1.3.0)\n",
      "Requirement already satisfied: six>=1.5 in /opt/app-root/lib/python3.9/site-packages (from python-dateutil>=2.8.2->pandas->datasets==2.19.2->-r requirements.txt (line 3)) (1.16.0)\n",
      "\n",
      "\u001b[1m[\u001b[0m\u001b[34;49mnotice\u001b[0m\u001b[1;39;49m]\u001b[0m\u001b[39;49m A new release of pip available: \u001b[0m\u001b[31;49m22.2.2\u001b[0m\u001b[39;49m -> \u001b[0m\u001b[32;49m24.2\u001b[0m\n",
      "\u001b[1m[\u001b[0m\u001b[34;49mnotice\u001b[0m\u001b[1;39;49m]\u001b[0m\u001b[39;49m To update, run: \u001b[0m\u001b[32;49mpip install --upgrade pip\u001b[0m\n"
     ]
    }
   ],
   "source": [
    "!pip install -r requirements.txt"
   ]
  },
  {
   "cell_type": "code",
   "execution_count": 2,
   "id": "b1aab093-3fbe-4de1-a64c-f7abd4e8d03f",
   "metadata": {
    "tags": []
   },
   "outputs": [
    {
     "name": "stderr",
     "output_type": "stream",
     "text": [
      "11:45:55 - awscliv2 - INFO - Installing AWS CLI v2 for Linux\n",
      "11:45:55 - awscliv2 - INFO - Removing /opt/app-root/src/.awscliv2\n",
      "11:45:55 - awscliv2 - INFO - Downloading package from https://awscli.amazonaws.com/awscli-exe-linux-x86_64.zip to /tmp/tmpp2p35zd3.zip\n",
      "11:45:56 - awscliv2 - INFO - Extracting /tmp/tmpp2p35zd3.zip to to /tmp/tmpbxqtz_m6\n",
      "11:45:57 - awscliv2 - INFO - Installing /tmp/tmpbxqtz_m6/aws/install to /opt/app-root/src/.awscliv2\n",
      "11:45:59 - awscliv2 - INFO - Now awsv2 will use this installed version\n",
      "11:45:59 - awscliv2 - INFO - Running now to check installation: awsv2 --version\n"
     ]
    }
   ],
   "source": [
    "from utils import (\n",
    "    get_checkpoint_and_refs_dir,\n",
    "    get_mirror_link,\n",
    "    download_model,\n",
    "    download_local_model,\n",
    "    get_download_path,\n",
    ")\n",
    "from pathlib import Path\n",
    "from filelock import FileLock\n",
    "\n",
    "import urllib\n",
    "from urllib.parse import urljoin"
   ]
  },
  {
   "cell_type": "code",
   "execution_count": 12,
   "id": "a386275e-5b20-4686-843f-fe10b286f9c7",
   "metadata": {
    "tags": []
   },
   "outputs": [
    {
     "name": "stdout",
     "output_type": "stream",
     "text": [
      "[2024-08-27 11:52:08,923] [WARNING] [real_accelerator.py:162:get_accelerator] Setting accelerator to CPU. If you have GPU or other accelerator, we were unable to detect it.\n",
      "[2024-08-27 11:52:08,925] [INFO] [real_accelerator.py:203:get_accelerator] Setting ds_accelerator to cpu (auto detect)\n"
     ]
    },
    {
     "name": "stderr",
     "output_type": "stream",
     "text": [
      "df: /opt/app-root/src/.triton/autotune: No such file or directory\n"
     ]
    }
   ],
   "source": [
    "urllib.parse.uses_relative.append(\"s3\")\n",
    "urllib.parse.uses_netloc.append(\"s3\")"
   ]
  },
  {
   "cell_type": "code",
   "execution_count": 4,
   "id": "959acdc8-4ed3-425c-a18f-8a2d7f4fbd50",
   "metadata": {
    "tags": []
   },
   "outputs": [
    {
     "name": "stderr",
     "output_type": "stream",
     "text": [
      "11:45:59 - awscliv2 - INFO - Installing AWS CLI v2 for Linux\n",
      "11:45:59 - awscliv2 - INFO - Removing /opt/app-root/src/.awscliv2\n",
      "11:45:59 - awscliv2 - INFO - Downloading package from https://awscli.amazonaws.com/awscli-exe-linux-x86_64.zip to /tmp/tmpaguayy76.zip\n",
      "11:45:59 - awscliv2 - INFO - Extracting /tmp/tmpaguayy76.zip to to /tmp/tmpk7wa3ano\n",
      "11:46:01 - awscliv2 - INFO - Installing /tmp/tmpk7wa3ano/aws/install to /opt/app-root/src/.awscliv2\n",
      "11:46:03 - awscliv2 - INFO - Now awsv2 will use this installed version\n",
      "11:46:03 - awscliv2 - INFO - Running now to check installation: awsv2 --version\n"
     ]
    }
   ],
   "source": [
    "from awscliv2.installers import install_multiplatform\n",
    "\n",
    "# Install AWS CLI locally, otherwise the Python wrapper falls back to using Docker\n",
    "install_multiplatform()"
   ]
  },
  {
   "cell_type": "code",
   "execution_count": 19,
   "id": "b0e93f8a-9697-4051-9ddb-26229a6e722d",
   "metadata": {
    "tags": []
   },
   "outputs": [
    {
     "name": "stdout",
     "output_type": "stream",
     "text": [
      "2.3.0\n",
      "AWS CLI v2 command: /opt/app-root/src/.awscliv2/binaries/aws\n",
      "aws-cli/2.17.38 Python/3.11.9 Linux/5.14.0-284.71.1.el9_2.x86_64 exe/x86_64.rhel.9\n"
     ]
    }
   ],
   "source": [
    "!awsv2 --version"
   ]
  },
  {
   "cell_type": "code",
   "execution_count": 13,
   "id": "c2e9bf82-69af-4352-abbe-335f77e71696",
   "metadata": {
    "tags": []
   },
   "outputs": [],
   "source": [
    "model_name = model_id = \"meta-llama/Llama-2-7b-chat-hf\""
   ]
  },
  {
   "cell_type": "code",
   "execution_count": 14,
   "id": "dd9c1485-e3ca-4aeb-869e-68f579bf63d9",
   "metadata": {
    "tags": []
   },
   "outputs": [
    {
     "data": {
      "text/plain": [
       "'s3://llama-2-weights/models--meta-llama--Llama-2-7b-chat-hf'"
      ]
     },
     "execution_count": 14,
     "metadata": {},
     "output_type": "execute_result"
    }
   ],
   "source": [
    "bucket_uri = get_mirror_link(model_id)\n",
    "bucket_uri"
   ]
  },
  {
   "cell_type": "code",
   "execution_count": 15,
   "id": "7bdbe8d6-066d-403a-878b-263e57ca61b1",
   "metadata": {
    "tags": []
   },
   "outputs": [
    {
     "data": {
      "text/plain": [
       "'/opt/app-root/src/.cache/huggingface/hub/models--meta-llama--Llama-2-7b-chat-hf'"
      ]
     },
     "execution_count": 15,
     "metadata": {},
     "output_type": "execute_result"
    }
   ],
   "source": [
    "download_path = get_download_path(model_id)\n",
    "download_path"
   ]
  },
  {
   "cell_type": "code",
   "execution_count": 16,
   "id": "c35a0613-44a4-44fe-bcca-5d7755f40d3f",
   "metadata": {
    "tags": []
   },
   "outputs": [
    {
     "data": {
      "text/plain": [
       "PosixPath('/opt/app-root/src/.cache/huggingface/hub')"
      ]
     },
     "execution_count": 16,
     "metadata": {},
     "output_type": "execute_result"
    }
   ],
   "source": [
    "base_path = Path(download_path).parent\n",
    "base_path"
   ]
  },
  {
   "cell_type": "code",
   "execution_count": 17,
   "id": "5f5c728a-da30-4269-b355-83042cf50310",
   "metadata": {
    "tags": []
   },
   "outputs": [],
   "source": [
    "base_path.mkdir(parents=True, exist_ok=True)"
   ]
  },
  {
   "cell_type": "code",
   "execution_count": 18,
   "id": "2d02c3fb-50cf-423a-a018-d893a257e20a",
   "metadata": {
    "tags": []
   },
   "outputs": [
    {
     "name": "stdout",
     "output_type": "stream",
     "text": [
      "RUN(['awsv2', 's3', 'sync', '--no-sign-request', 's3://llama-2-weights/models--meta-llama--Llama-2-7b-chat-hf', '/opt/app-root/src/.cache/huggingface/hub/models--meta-llama--Llama-2-7b-chat-hf'])\n",
      "done\n"
     ]
    },
    {
     "name": "stderr",
     "output_type": "stream",
     "text": [
      "fatal error: Could not connect to the endpoint URL: \"https://llama-2-weights.s3.none.amazonaws.com/?list-type=2&prefix=models--meta-llama--Llama-2-7b-chat-hf%2F&encoding-type=url\"\n",
      "11:53:44 - awscliv2 - ERROR - Command failed with code 1\n"
     ]
    }
   ],
   "source": [
    "lock_file = str(base_path / f'{model_id.replace(\"/\",  \"--\")}.lock')\n",
    "with FileLock(lock_file):\n",
    "    download_model(\n",
    "        model_id=model_id, bucket_uri=bucket_uri, s3_sync_args=[\"--no-sign-request\"]\n",
    "    )"
   ]
  },
  {
   "cell_type": "code",
   "execution_count": null,
   "id": "91fb0fa6-616f-4bc0-b49a-9025cf533cb6",
   "metadata": {},
   "outputs": [],
   "source": []
  }
 ],
 "metadata": {
  "kernelspec": {
   "display_name": "Python 3.9",
   "language": "python",
   "name": "python3"
  },
  "language_info": {
   "codemirror_mode": {
    "name": "ipython",
    "version": 3
   },
   "file_extension": ".py",
   "mimetype": "text/x-python",
   "name": "python",
   "nbconvert_exporter": "python",
   "pygments_lexer": "ipython3",
   "version": "3.9.16"
  }
 },
 "nbformat": 4,
 "nbformat_minor": 5
}
