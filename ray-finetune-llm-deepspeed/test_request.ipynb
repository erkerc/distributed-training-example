{
 "cells": [
  {
   "cell_type": "code",
   "execution_count": 1,
   "id": "859d98de-8a8a-4166-8651-0ac96b6dd27b",
   "metadata": {
    "tags": []
   },
   "outputs": [],
   "source": [
    "import requests"
   ]
  },
  {
   "cell_type": "code",
   "execution_count": 2,
   "id": "23f3a75d-7f6d-4fcd-ad67-11d8ac57f7e1",
   "metadata": {
    "tags": []
   },
   "outputs": [],
   "source": [
    "url = \"https://llama2-7b-finetuned-test-llms.apps.cluster-m5t2c.m5t2c.sandbox3238.opentlc.com\""
   ]
  },
  {
   "cell_type": "code",
   "execution_count": 3,
   "id": "f62da28f-1b98-40d7-bc22-4adc8c20892b",
   "metadata": {
    "tags": []
   },
   "outputs": [],
   "source": [
    "prompt=\"\"\"\n",
    "Below is an instruction that describes a task. Write a response that appropriately completes the request. ### Instruction: Why is water blue? ### Response:\n",
    "\"\"\""
   ]
  },
  {
   "cell_type": "code",
   "execution_count": 6,
   "id": "d3518c4a-3206-41b4-b509-b22234fda143",
   "metadata": {
    "tags": []
   },
   "outputs": [
    {
     "name": "stderr",
     "output_type": "stream",
     "text": [
      "/opt/app-root/lib64/python3.9/site-packages/urllib3/connectionpool.py:1061: InsecureRequestWarning: Unverified HTTPS request is being made to host 'llama2-7b-finetuned-test-llms.apps.cluster-m5t2c.m5t2c.sandbox3238.opentlc.com'. Adding certificate verification is strongly advised. See: https://urllib3.readthedocs.io/en/1.26.x/advanced-usage.html#ssl-warnings\n",
      "  warnings.warn(\n"
     ]
    },
    {
     "name": "stdout",
     "output_type": "stream",
     "text": [
      "{\"id\":\"cmpl-96b68a2ce39a4ab1a90987b137cb85f8\",\"object\":\"text_completion\",\"created\":1720448278,\"model\":\"llama2-7b-finetuned\",\"choices\":[{\"index\":0,\"text\":\"The reason water is blue is due to its composition which features a combination of tiny\",\"logprobs\":null,\"finish_reason\":\"length\",\"stop_reason\":null}],\"usage\":{\"prompt_tokens\":37,\"total_tokens\":53,\"completion_tokens\":16}}\n"
     ]
    }
   ],
   "source": [
    "obj = {\"prompt\": prompt, \"model\":\"llama2-7b-finetuned\"}\n",
    "print(requests.post(f\"{url}/v1/completions\", json=obj, verify=False).text)"
   ]
  }
 ],
 "metadata": {
  "kernelspec": {
   "display_name": "Python 3.9",
   "language": "python",
   "name": "python3"
  },
  "language_info": {
   "codemirror_mode": {
    "name": "ipython",
    "version": 3
   },
   "file_extension": ".py",
   "mimetype": "text/x-python",
   "name": "python",
   "nbconvert_exporter": "python",
   "pygments_lexer": "ipython3",
   "version": "3.9.16"
  }
 },
 "nbformat": 4,
 "nbformat_minor": 5
}
